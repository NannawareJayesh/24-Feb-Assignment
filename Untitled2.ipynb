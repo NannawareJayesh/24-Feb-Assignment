{
 "cells": [
  {
   "cell_type": "markdown",
   "id": "5035b981-b97f-431d-acb3-a41cc058fcf5",
   "metadata": {},
   "source": [
    "### pandas advance assignment-1"
   ]
  },
  {
   "cell_type": "markdown",
   "id": "12327d43-d9e7-4f6b-8574-55f5e8b406e5",
   "metadata": {},
   "source": [
    "### Q1. List any five functions of the pandas library with execution."
   ]
  },
  {
   "cell_type": "markdown",
   "id": "e4bb7377-7bac-4beb-99a6-1d27936ea6c9",
   "metadata": {},
   "source": [
    "### Sure! Here are five commonly used functions of the pandas library along with examples demonstrating their use:\n",
    "\n",
    "### 1.Creating a DataFrame\n",
    "### 2.Reading a CSV file\n",
    "### 3.Descriptive Statistics\n",
    "### 4.DataFrame Filtering\n",
    "### 5.Grouping and Aggregation"
   ]
  },
  {
   "cell_type": "code",
   "execution_count": 2,
   "id": "9a9480d6-dda8-497b-9bdf-8ee6329d292a",
   "metadata": {},
   "outputs": [
    {
     "name": "stdout",
     "output_type": "stream",
     "text": [
      "      Name  Age         City\n",
      "0    Alice   25     New York\n",
      "1      Bob   30  Los Angeles\n",
      "2  Charlie   35      Chicago\n"
     ]
    }
   ],
   "source": [
    "#  1.Creating a DataFrame\n",
    "# 2.Reading a CSV file\n",
    "import pandas as pd\n",
    "\n",
    "# Creating a DataFrame from a dictionary\n",
    "data = {\n",
    "    'Name': ['Alice', 'Bob', 'Charlie'],\n",
    "    'Age': [25, 30, 35],\n",
    "    'City': ['New York', 'Los Angeles', 'Chicago']\n",
    "}\n",
    "df = pd.DataFrame(data)\n",
    "print(df)"
   ]
  },
  {
   "cell_type": "code",
   "execution_count": 3,
   "id": "342fba21-bbd7-45de-9c8a-5e94df67715b",
   "metadata": {},
   "outputs": [
    {
     "name": "stdout",
     "output_type": "stream",
     "text": [
      "      Name  Age         City\n",
      "0    Alice   25     New York\n",
      "1      Bob   30  Los Angeles\n",
      "2  Charlie   35      Chicago\n"
     ]
    }
   ],
   "source": [
    "#2.Reading a CSV file\n",
    "# Example CSV content for demonstration\n",
    "csv_content = \"\"\"Name,Age,City\n",
    "Alice,25,New York\n",
    "Bob,30,Los Angeles\n",
    "Charlie,35,Chicago\n",
    "\"\"\"\n",
    "\n",
    "# Writing the CSV content to a file\n",
    "with open('example.csv', 'w') as file:\n",
    "    file.write(csv_content)\n",
    "\n",
    "# Reading the CSV file into a DataFrame\n",
    "df = pd.read_csv('example.csv')\n",
    "print(df)"
   ]
  },
  {
   "cell_type": "code",
   "execution_count": 2,
   "id": "193e8e6d-9f2b-4c2b-8ea0-5fa7082dd05e",
   "metadata": {},
   "outputs": [
    {
     "name": "stdout",
     "output_type": "stream",
     "text": [
      "        Age\n",
      "count   3.0\n",
      "mean   30.0\n",
      "std     5.0\n",
      "min    25.0\n",
      "25%    27.5\n",
      "50%    30.0\n",
      "75%    32.5\n",
      "max    35.0\n"
     ]
    }
   ],
   "source": [
    "# 3.Descriptive Statistics\n",
    "print(df.describe())"
   ]
  },
  {
   "cell_type": "code",
   "execution_count": 3,
   "id": "3f2909e2-c109-47a5-9612-1567a6b1b1a5",
   "metadata": {},
   "outputs": [
    {
     "name": "stdout",
     "output_type": "stream",
     "text": [
      "      Name  Age         City\n",
      "1      Bob   30  Los Angeles\n",
      "2  Charlie   35      Chicago\n"
     ]
    }
   ],
   "source": [
    "# 4.DataFrame Filtering rows where Age > 25\n",
    "filtered_df = df[df['Age'] > 25]\n",
    "print(filtered_df)"
   ]
  },
  {
   "cell_type": "code",
   "execution_count": 4,
   "id": "2ce926d2-eca2-4978-9133-ec0e9dd5036a",
   "metadata": {},
   "outputs": [
    {
     "name": "stdout",
     "output_type": "stream",
     "text": [
      "              Age\n",
      "City             \n",
      "Chicago      35.0\n",
      "Los Angeles  30.0\n",
      "New York     25.0\n"
     ]
    },
    {
     "name": "stderr",
     "output_type": "stream",
     "text": [
      "/tmp/ipykernel_5335/3388665431.py:2: FutureWarning: The default value of numeric_only in DataFrameGroupBy.mean is deprecated. In a future version, numeric_only will default to False. Either specify numeric_only or select only columns which should be valid for the function.\n",
      "  grouped_df = df.groupby('City').mean()\n"
     ]
    }
   ],
   "source": [
    "# 5.Grouping and Aggregation by City and calculating the mean Age\n",
    "grouped_df = df.groupby('City').mean()\n",
    "print(grouped_df)"
   ]
  },
  {
   "cell_type": "markdown",
   "id": "0769f2da-cfbd-4b95-a4bf-435958763bde",
   "metadata": {},
   "source": [
    "### Q2. Given a Pandas DataFrame df with columns 'A', 'B', and 'C', write a Python function to re-index the DataFrame with a new index that starts from 1 and increments by 2 for each row."
   ]
  },
  {
   "cell_type": "markdown",
   "id": "11dc716f-8a90-4017-a4e9-22af53ecb236",
   "metadata": {},
   "source": [
    "### To re-index a Pandas DataFrame with a new index that starts from 1 and increments by 2 for each row, we can define a function that achieves this. Here's how we can do it:"
   ]
  },
  {
   "cell_type": "code",
   "execution_count": 5,
   "id": "14d4c44c-7334-406d-a366-e3197ea8e873",
   "metadata": {},
   "outputs": [
    {
     "name": "stdout",
     "output_type": "stream",
     "text": [
      "Original DataFrame:\n",
      "    A   B   C\n",
      "0  10  40  70\n",
      "1  20  50  80\n",
      "2  30  60  90\n",
      "\n",
      "Re-indexed DataFrame:\n",
      "    A   B   C\n",
      "1  10  40  70\n",
      "3  20  50  80\n",
      "5  30  60  90\n"
     ]
    }
   ],
   "source": [
    "import pandas as pd\n",
    "\n",
    "def reindex_dataframe(df):\n",
    "    # Create a new index starting from 1 and incrementing by 2\n",
    "    new_index = range(1, 2 * len(df) + 1, 2)\n",
    "    # Assign the new index to the DataFrame\n",
    "    df.index = new_index\n",
    "    return df\n",
    "\n",
    "# Example DataFrame\n",
    "dataset = {\n",
    "    'A': [10, 20, 30],\n",
    "    'B': [40, 50, 60],\n",
    "    'C': [70, 80, 90]\n",
    "}\n",
    "df = pd.DataFrame(dataset)\n",
    "print(\"Original DataFrame:\")\n",
    "print(df)\n",
    "\n",
    "# Re-index the DataFrame\n",
    "reindexed_df = reindex_dataframe(df)\n",
    "print(\"\\nRe-indexed DataFrame:\")\n",
    "print(reindexed_df)"
   ]
  },
  {
   "cell_type": "markdown",
   "id": "1d6245af-f438-41b1-b0d6-f4f4d3ff7f76",
   "metadata": {},
   "source": [
    "### Q3. You have a Pandas DataFrame df with a column named 'Values'. Write a Python function that iterates over the DataFrame and calculates the sum of the first three values in the 'Values' column. The\n",
    "### function should print the sum to the console.\n",
    "### For example, if the 'Values' column of df contains the values [10, 20, 30, 40, 50], your function should calculate and print the sum of the first three values, which is 60."
   ]
  },
  {
   "cell_type": "markdown",
   "id": "b50936de-b72b-43dd-a4c9-ce8d7244a8a7",
   "metadata": {},
   "source": [
    "### Sure! Here's a Python function that iterates over the DataFrame and calculates the sum of the first three values in the 'Values' column:"
   ]
  },
  {
   "cell_type": "code",
   "execution_count": 6,
   "id": "db33f9cb-50d1-435a-bfc8-add8aff0dcba",
   "metadata": {},
   "outputs": [
    {
     "name": "stdout",
     "output_type": "stream",
     "text": [
      "Sum of the first three values: 60\n"
     ]
    }
   ],
   "source": [
    "import pandas as pd\n",
    "\n",
    "def sum_first_three(df):\n",
    "    # Ensure there are at least three values\n",
    "    if len(df) < 3:\n",
    "        print(\"The DataFrame does not contain enough values.\")\n",
    "        return\n",
    "    \n",
    "    # Sum the first three values in the 'Values' column\n",
    "    sum_values = df['Values'].iloc[:3].sum()\n",
    "    \n",
    "    # Print the sum\n",
    "    print(\"Sum of the first three values:\", sum_values)\n",
    "\n",
    "# Example DataFrame\n",
    "data_a = {\n",
    "    'Values': [10, 20, 30, 40, 50]\n",
    "}\n",
    "df = pd.DataFrame(data_a)\n",
    "\n",
    "# Call the function with the example DataFrame\n",
    "sum_first_three(df)"
   ]
  },
  {
   "cell_type": "markdown",
   "id": "abfc7855-fe75-4085-afe4-fc9ae4e4c1c1",
   "metadata": {},
   "source": [
    "### In this function, the iloc method is used to select the first three values in the 'Values' column, and then the sum() method is used to calculate their sum. The function prints the result to the console. we can run this code in our Python environment to see the output."
   ]
  },
  {
   "cell_type": "markdown",
   "id": "771bd928-d3f1-4039-9081-650d1648d922",
   "metadata": {},
   "source": [
    "### Q4. Given a Pandas DataFrame df with a column 'Text', write a Python function to create a new column 'Word_Count' that contains the number of words in each row of the 'Text' column."
   ]
  },
  {
   "cell_type": "markdown",
   "id": "2d66697b-1d61-4511-b375-ca20883096d5",
   "metadata": {},
   "source": [
    "### Sure! we can create a new column 'Word_Count' that contains the number of words in each row of the 'Text' column using the apply function along with a lambda function. Here is an example of how to do it:"
   ]
  },
  {
   "cell_type": "code",
   "execution_count": 7,
   "id": "31d16fab-502d-432a-b118-36ba7c28424b",
   "metadata": {},
   "outputs": [
    {
     "name": "stdout",
     "output_type": "stream",
     "text": [
      "                   Text  Word_Count\n",
      "0   This is a sentence.           4\n",
      "1  Here is another one.           4\n",
      "2      And a third one.           4\n"
     ]
    }
   ],
   "source": [
    "import pandas as pd\n",
    "\n",
    "def add_word_count_column(df):\n",
    "    # Create the 'Word_Count' column\n",
    "    df['Word_Count'] = df['Text'].apply(lambda x: len(x.split()))\n",
    "    return df\n",
    "\n",
    "# Example DataFrame\n",
    "data_b = {\n",
    "    'Text': ['This is a sentence.', 'Here is another one.', 'And a third one.']\n",
    "}\n",
    "df = pd.DataFrame(data_b)\n",
    "\n",
    "# Call the function to add the 'Word_Count' column\n",
    "df = add_word_count_column(df)\n",
    "print(df)"
   ]
  },
  {
   "cell_type": "markdown",
   "id": "79f263e2-d7a6-4092-ab91-66127f7bab6b",
   "metadata": {},
   "source": [
    "### This function uses the apply method to apply a lambda function to each element in the 'Text' column. The lambda function splits the text into words and counts the number of words using len(x.split()). The result is stored in the new 'Word_Count' column. we can run this code in our Python environment to see the output."
   ]
  },
  {
   "cell_type": "markdown",
   "id": "f5dc0acb-9a0b-4c55-992f-630214652acf",
   "metadata": {},
   "source": [
    "### Q5. How are DataFrame.size() and DataFrame.shape() different?"
   ]
  },
  {
   "cell_type": "markdown",
   "id": "22665f85-1be3-42ca-85c4-0bacb508c337",
   "metadata": {},
   "source": [
    "### DataFrame.size and DataFrame.shape are attributes of a Pandas DataFrame that provide different types of information about the DataFrame:\n",
    "\n",
    "### 1.DataFrame.size\n",
    "\n",
    "### Description: Returns the total number of elements in the DataFrame.\n",
    "### Output: An integer representing the total number of elements (i.e., rows × columns)."
   ]
  },
  {
   "cell_type": "code",
   "execution_count": 8,
   "id": "7692a525-31e7-4ae8-a76a-ba28c1bbdf63",
   "metadata": {},
   "outputs": [
    {
     "name": "stdout",
     "output_type": "stream",
     "text": [
      "9\n"
     ]
    }
   ],
   "source": [
    "import pandas as pd\n",
    "\n",
    "data_c = {\n",
    "    'A': [1, 2, 3],\n",
    "    'B': [4, 5, 6],\n",
    "    'C': [7, 8, 9]\n",
    "}\n",
    "df = pd.DataFrame(data_c)\n",
    "print(df.size) "
   ]
  },
  {
   "cell_type": "markdown",
   "id": "e88256a1-308c-4d2e-9e73-d3b95f0b2879",
   "metadata": {},
   "source": [
    "### 2.DataFrame.shape\n",
    "\n",
    "### Description: Returns a tuple representing the dimensionality of the DataFrame.\n",
    "### Output: A tuple of the form (number of rows, number of columns)."
   ]
  },
  {
   "cell_type": "code",
   "execution_count": 9,
   "id": "31479f01-ae3e-452b-8571-4ec993355f89",
   "metadata": {},
   "outputs": [
    {
     "name": "stdout",
     "output_type": "stream",
     "text": [
      "(3, 3)\n"
     ]
    }
   ],
   "source": [
    "import pandas as pd\n",
    "\n",
    "data = {\n",
    "    'A': [1, 2, 3],\n",
    "    'B': [4, 5, 6],\n",
    "    'C': [7, 8, 9]\n",
    "}\n",
    "df = pd.DataFrame(data)\n",
    "print(df.shape) "
   ]
  },
  {
   "cell_type": "markdown",
   "id": "b077b087-6f47-4267-8e0e-7b1346b9a62f",
   "metadata": {},
   "source": [
    "### DataFrame.size gives us the total number of elements in the DataFrame.\n",
    "### DataFrame.shape gives us the number of rows and columns in the DataFrame as a tuple."
   ]
  },
  {
   "cell_type": "markdown",
   "id": "1cb5154a-9bcd-4531-afa5-983f09dc52a9",
   "metadata": {},
   "source": [
    "### Q6. Which function of pandas do we use to read an excel file?"
   ]
  },
  {
   "cell_type": "markdown",
   "id": "49737069-8c6b-49b7-96b6-dbec435a9d78",
   "metadata": {},
   "source": [
    "### To read an Excel file into a Pandas DataFrame, we use the pd.read_excel() function. This function can read Excel files in both .xls and .xlsx formats.\n",
    "import pandas as pd\n",
    "\n",
    "### Reading an Excel file\n",
    "df = pd.read_excel('path_to_file.xlsx')\n",
    "\n",
    "### Display the DataFrame\n",
    "print(df)\n",
    "### Parameters of pd.read_excel()\n",
    "### Some of the important parameters we can use with pd.read_excel() include:\n",
    "### io: The path to the Excel file or a file-like object.\n",
    "### sheet_name: The sheet name or index to read (default is 0). we can also pass a list of sheet names or None to read all sheets.\n",
    "### header: The row number(s) to use as the column names.\n",
    "### names: A list of column names to use.\n",
    "### index_col: The column(s) to use as the row index.\n",
    "### usecols: The columns to read.\n",
    "### Example with Parameters\n",
    "### Reading a specific sheet and specifying the column to use as the index\n",
    "df = pd.read_excel('path_to_file.xlsx', sheet_name='Sheet1', index_col=0)\n",
    "\n",
    "### Display the DataFrame\n",
    "print(df)\n",
    "### This function provides a lot of flexibility for reading Excel files into Pandas DataFrames."
   ]
  },
  {
   "cell_type": "markdown",
   "id": "10bb8cde-c645-4e4a-a69e-8d9ea6fef710",
   "metadata": {},
   "source": [
    "### Q7. You have a Pandas DataFrame df that contains a column named 'Email' that contains email addresses in the format 'username@domain.com'. Write a Python function that creates a new column 'Username' in df that contains only the username part of each email address.\n",
    "### The username is the part of the email address that appears before the '@' symbol. For example, if the email address is 'john.doe@example.com', the 'Username' column should contain 'john.doe'. Your function should extract the username from each email address and store it in the new 'Username' column."
   ]
  },
  {
   "cell_type": "markdown",
   "id": "743e69f6-7daa-46dd-9ae1-96b0b3d5eb08",
   "metadata": {},
   "source": [
    "### Sure! we can create a new column 'Username' that contains only the username part of each email address by using the str.split() method. Here’s how we can do it:"
   ]
  },
  {
   "cell_type": "code",
   "execution_count": 10,
   "id": "46341826-868b-4629-979d-964eb6cc6b63",
   "metadata": {},
   "outputs": [
    {
     "name": "stdout",
     "output_type": "stream",
     "text": [
      "                       Email    Username\n",
      "0       john.doe@example.com    john.doe\n",
      "1      jane.smith@domain.com  jane.smith\n",
      "2  foo.bar@anotherdomain.com     foo.bar\n"
     ]
    }
   ],
   "source": [
    "import pandas as pd\n",
    "\n",
    "def extract_usernames(df):\n",
    "    # Split the 'Email' column at '@' and take the first part\n",
    "    df['Username'] = df['Email'].str.split('@').str[0]\n",
    "    return df\n",
    "\n",
    "# Example DataFrame\n",
    "data_d = {\n",
    "    'Email': ['john.doe@example.com', 'jane.smith@domain.com', 'foo.bar@anotherdomain.com']\n",
    "}\n",
    "df = pd.DataFrame(data_d)\n",
    "\n",
    "# Call the function to create the 'Username' column\n",
    "df = extract_usernames(df)\n",
    "print(df)"
   ]
  },
  {
   "cell_type": "markdown",
   "id": "5bfd274f-8693-4d03-8055-8c7550be0615",
   "metadata": {},
   "source": [
    "### In this function, the str.split('@') method splits each email address at the '@' symbol, and str[0] selects the part before the '@' symbol (the username). The resulting usernames are stored in the new 'Username' column. we can run this code in our Python environment to see the output."
   ]
  },
  {
   "cell_type": "markdown",
   "id": "ee1bd7f6-4c5d-4fc4-b19e-3cf0e3cc9515",
   "metadata": {},
   "source": [
    "### Q8. You have a Pandas DataFrame df with columns 'A', 'B', and 'C'. Write a Python function that selects all rows where the value in column 'A' is greater than 5 and the value in column 'B' is less than 10. The function should return a new DataFrame that contains only the selected rows.\n",
    "### For example, if df contains the following values:\n",
    "A B C\n",
    "0 3 5 1\n",
    "1 8 2 7\n",
    "2 6 9 4\n",
    "3 2 3 5\n",
    "4 9 1 2\n",
    "### Your function should select the following rows: A B C\n",
    "1 8 2 7\n",
    "4 9 1 2\n",
    "### The function should return a new DataFrame that contains only the selected rows."
   ]
  },
  {
   "cell_type": "markdown",
   "id": "a39247a4-8ab7-416b-8b74-e034a7229052",
   "metadata": {},
   "source": [
    "### To select rows based on the specified conditions (column 'A' > 5 and column 'B' < 10), we can use boolean indexing. Here’s how we can write a Python function to achieve this"
   ]
  },
  {
   "cell_type": "code",
   "execution_count": 11,
   "id": "c2008fda-100c-4241-ab1f-2982eb50eb85",
   "metadata": {},
   "outputs": [
    {
     "name": "stdout",
     "output_type": "stream",
     "text": [
      "   A  B  C\n",
      "1  8  2  7\n",
      "2  6  9  4\n",
      "4  9  1  2\n"
     ]
    }
   ],
   "source": [
    "import pandas as pd\n",
    "\n",
    "def select_rows(df):\n",
    "    # Apply the conditions to filter the DataFrame\n",
    "    filtered_df = df[(df['A'] > 5) & (df['B'] < 10)]\n",
    "    return filtered_df\n",
    "\n",
    "# Example DataFrame\n",
    "data = {\n",
    "    'A': [3, 8, 6, 2, 9],\n",
    "    'B': [5, 2, 9, 3, 1],\n",
    "    'C': [1, 7, 4, 5, 2]\n",
    "}\n",
    "df = pd.DataFrame(data)\n",
    "\n",
    "# Call the function to select the rows\n",
    "selected_df = select_rows(df)\n",
    "print(selected_df)"
   ]
  },
  {
   "cell_type": "markdown",
   "id": "ded8d15d-73b2-4c21-9a29-d0863e195585",
   "metadata": {},
   "source": [
    "### Boolean Indexing: The conditions (df['A'] > 5) and (df['B'] < 10) create boolean Series. The & operator is used to combine these conditions.\n",
    "### Filtering: The DataFrame is filtered by passing the combined conditions inside df[], resulting in a new DataFrame containing only the rows that satisfy both conditions"
   ]
  },
  {
   "cell_type": "markdown",
   "id": "3a7abe6d-7534-49e1-b466-55c6f3eb906c",
   "metadata": {},
   "source": [
    "### Q9. Given a Pandas DataFrame df with a column 'Values', write a Python function to calculate the mean, median, and standard deviation of the values in the 'Values' column."
   ]
  },
  {
   "cell_type": "markdown",
   "id": "a1cb8492-6b4f-4589-9eb3-349aa4350269",
   "metadata": {},
   "source": [
    "### we can use the mean(), median(), and std() methods provided by Pandas to calculate the mean, median, and standard deviation of the values in the 'Values' column. Here’s how we can write a Python function to achieve this:"
   ]
  },
  {
   "cell_type": "code",
   "execution_count": 12,
   "id": "066d393a-c4de-4eca-9eea-939977efd6c1",
   "metadata": {},
   "outputs": [
    {
     "name": "stdout",
     "output_type": "stream",
     "text": [
      "Mean: 30.0\n",
      "Median: 30.0\n",
      "Standard Deviation: 15.811388300841896\n"
     ]
    }
   ],
   "source": [
    "import pandas as pd\n",
    "\n",
    "def calculate_statistics(df):\n",
    "    # Calculate the mean\n",
    "    mean_value = df['Values'].mean()\n",
    "    \n",
    "    # Calculate the median\n",
    "    median_value = df['Values'].median()\n",
    "    \n",
    "    # Calculate the standard deviation\n",
    "    std_value = df['Values'].std()\n",
    "    \n",
    "    return mean_value, median_value, std_value\n",
    "\n",
    "# Example DataFrame\n",
    "data_f = {\n",
    "    'Values': [10, 20, 30, 40, 50]\n",
    "}\n",
    "df = pd.DataFrame(data_f)\n",
    "\n",
    "# Call the function to calculate the statistics\n",
    "mean_value, median_value, std_value = calculate_statistics(df)\n",
    "\n",
    "print(f\"Mean: {mean_value}\")\n",
    "print(f\"Median: {median_value}\")\n",
    "print(f\"Standard Deviation: {std_value}\")"
   ]
  },
  {
   "cell_type": "markdown",
   "id": "99c61985-7c67-4602-b88d-f9d334fa32a3",
   "metadata": {},
   "source": [
    "### 1.Mean: df['Values'].mean() calculates the mean of the values in the 'Values' column.\n",
    "### 2.Median: df['Values'].median() calculates the median of the values in the 'Values' column.\n",
    "### 3.Standard Deviation: df['Values'].std() calculates the standard deviation of the values in the 'Values' column."
   ]
  },
  {
   "cell_type": "markdown",
   "id": "0d38ce9a-ddbe-452c-ada7-8da67223f3fd",
   "metadata": {},
   "source": [
    "### Q10. Given a Pandas DataFrame df with a column 'Sales' and a column 'Date', write a Python function to create a new column 'MovingAverage' that contains the moving average of the sales for the past 7 days for each row in the DataFrame. The moving average should be calculated using a window of size 7 and should include the current day."
   ]
  },
  {
   "cell_type": "markdown",
   "id": "9e50daee-b6a7-4fec-a766-a14d9a20161b",
   "metadata": {},
   "source": [
    "### To calculate the moving average of the sales for the past 7 days for each row in a Pandas DataFrame, we can use the rolling method with a window size of 7 and the mean function. Here’s how we can write a Python function to achieve this:"
   ]
  },
  {
   "cell_type": "code",
   "execution_count": 13,
   "id": "e2d2619f-0595-4170-be12-af8e86d7d032",
   "metadata": {},
   "outputs": [
    {
     "name": "stdout",
     "output_type": "stream",
     "text": [
      "        Date  Sales  MovingAverage\n",
      "0 2024-07-01    200     200.000000\n",
      "1 2024-07-02    220     210.000000\n",
      "2 2024-07-03    210     210.000000\n",
      "3 2024-07-04    230     215.000000\n",
      "4 2024-07-05    250     222.000000\n",
      "5 2024-07-06    270     230.000000\n",
      "6 2024-07-07    260     234.285714\n",
      "7 2024-07-08    280     245.714286\n",
      "8 2024-07-09    300     257.142857\n"
     ]
    }
   ],
   "source": [
    "import pandas as pd\n",
    "\n",
    "def add_moving_average(df):\n",
    "    # Ensure the 'Date' column is in datetime format\n",
    "    df['Date'] = pd.to_datetime(df['Date'])\n",
    "    \n",
    "    # Sort the DataFrame by 'Date' if not already sorted\n",
    "    df = df.sort_values('Date')\n",
    "    \n",
    "    # Calculate the moving average with a window of 7 days\n",
    "    df['MovingAverage'] = df['Sales'].rolling(window=7, min_periods=1).mean()\n",
    "    \n",
    "    return df\n",
    "\n",
    "# Example DataFrame\n",
    "data_1 = {\n",
    "    'Date': ['2024-07-01', '2024-07-02', '2024-07-03', '2024-07-04', '2024-07-05', \n",
    "             '2024-07-06', '2024-07-07', '2024-07-08', '2024-07-09'],\n",
    "    'Sales': [200, 220, 210, 230, 250, 270, 260, 280, 300]\n",
    "}\n",
    "df = pd.DataFrame(data_1)\n",
    "\n",
    "# Call the function to add the 'MovingAverage' column\n",
    "df = add_moving_average(df)\n",
    "print(df)"
   ]
  },
  {
   "cell_type": "markdown",
   "id": "8c6118cc-3843-411b-a06a-5134f985532f",
   "metadata": {},
   "source": [
    "### 1.Convert 'Date' column to datetime: This ensures that the 'Date' column is in the correct format for sorting and rolling calculations.\n",
    "### 2.Sort by 'Date': Ensure the DataFrame is sorted by the 'Date' column to calculate the moving average correctly.\n",
    "### 3.Calculate Moving Average: Use the rolling method with a window size of 7 and min_periods=1 to include the current day and calculate the moving average even if there are fewer than 7 days available at the start."
   ]
  },
  {
   "cell_type": "markdown",
   "id": "01cceed3-07cf-435d-9e42-e1e58c44ee40",
   "metadata": {},
   "source": [
    "### Q11. You have a Pandas DataFrame df with a column 'Date'. Write a Python function that creates a new column 'Weekday' in the DataFrame. The 'Weekday' column should contain the weekday name (e.g. Monday, Tuesday) corresponding to each date in the 'Date' column.\n",
    "### For example, if df contains the following values:\n",
    "### Date\n",
    "### 0 2023-01-01\n",
    "### 1 2023-01-02\n",
    "### 2 2023-01-03\n",
    "### 3 2023-01-04\n",
    "### 4 2023-01-05\n",
    "### Your function should create the following DataFrame:\n",
    "\n",
    "### Date Weekday\n",
    "### 0 2023-01-01 Sunday\n",
    "### 1 2023-01-02 Monday\n",
    "### 2 2023-01-03 Tuesday\n",
    "### 3 2023-01-04 Wednesday\n",
    "### 4 2023-01-05 Thursday\n",
    "### The function should return the modified DataFrame."
   ]
  },
  {
   "cell_type": "markdown",
   "id": "f693517c-ea4e-4c6f-8dcb-b8c147291de2",
   "metadata": {},
   "source": [
    "### To create a new column 'Weekday' in the DataFrame based on the 'Date' column, we can use the Pandas library along with the pd.to_datetime() function to convert the 'Date' column to datetime format and then use the dt.day_name() method to get the weekday names. Here's a Python function that accomplishes this:"
   ]
  },
  {
   "cell_type": "code",
   "execution_count": 14,
   "id": "9e4c6d13-cbd2-4197-8e54-b0552deb9609",
   "metadata": {},
   "outputs": [
    {
     "name": "stdout",
     "output_type": "stream",
     "text": [
      "        Date    Weekday\n",
      "0 2023-01-01     Sunday\n",
      "1 2023-01-02     Monday\n",
      "2 2023-01-03    Tuesday\n",
      "3 2023-01-04  Wednesday\n",
      "4 2023-01-05   Thursday\n"
     ]
    }
   ],
   "source": [
    "import pandas as pd\n",
    "\n",
    "def add_weekday_column(df):\n",
    "    # Ensure 'Date' column is in datetime format\n",
    "    df['Date'] = pd.to_datetime(df['Date'])\n",
    "    \n",
    "    # Create 'Weekday' column with weekday names\n",
    "    df['Weekday'] = df['Date'].dt.day_name()\n",
    "    \n",
    "    return df\n",
    "\n",
    "# Example usage\n",
    "data_2 = {'Date': ['2023-01-01', '2023-01-02', '2023-01-03', '2023-01-04', '2023-01-05']}\n",
    "df = pd.DataFrame(data_2)\n",
    "df = add_weekday_column(df)\n",
    "print(df)"
   ]
  },
  {
   "cell_type": "markdown",
   "id": "a24e8939-c7bb-4e06-b678-56519e5cb137",
   "metadata": {},
   "source": [
    "### 1.Convert the 'Date' column to a datetime format using pd.to_datetime().\n",
    "### 2.Create the 'Weekday' column by extracting the weekday name from the 'Date' column with the dt.day_name() method.\n",
    "### 3.Return the modified DataFrame."
   ]
  },
  {
   "cell_type": "markdown",
   "id": "c3cdd8c0-f9e2-4067-ab1c-b6faa8ec2d81",
   "metadata": {},
   "source": [
    "### Q12. Given a Pandas DataFrame df with a column 'Date' that contains timestamps, write a Python function to select all rows where the date is between '2023-01-01' and '2023-01-31'."
   ]
  },
  {
   "cell_type": "markdown",
   "id": "80f53c7f-2995-49c5-8a32-4de80c5549f1",
   "metadata": {},
   "source": [
    "### To filter rows in a Pandas DataFrame where the 'Date' column falls within a specific date range, we can use boolean indexing along with the pd.to_datetime() function to ensure the 'Date' column is in datetime format."
   ]
  },
  {
   "cell_type": "code",
   "execution_count": 15,
   "id": "369e8457-1f42-410e-b09c-7ea3e263e899",
   "metadata": {},
   "outputs": [
    {
     "name": "stdout",
     "output_type": "stream",
     "text": [
      "        Date\n",
      "0 2023-01-01\n",
      "1 2023-01-15\n",
      "2 2023-01-31\n"
     ]
    }
   ],
   "source": [
    "import pandas as pd\n",
    "\n",
    "def filter_dates(df, start_date, end_date):\n",
    "    # Ensure 'Date' column is in datetime format\n",
    "    df['Date'] = pd.to_datetime(df['Date'])\n",
    "    \n",
    "    # Convert start_date and end_date to datetime\n",
    "    start_date = pd.to_datetime(start_date)\n",
    "    end_date = pd.to_datetime(end_date)\n",
    "    \n",
    "    # Filter rows where 'Date' is between start_date and end_date\n",
    "    filtered_df = df[(df['Date'] >= start_date) & (df['Date'] <= end_date)]\n",
    "    \n",
    "    return filtered_df\n",
    "\n",
    "# Example usage\n",
    "data_3 = {'Date': ['2023-01-01', '2023-01-15', '2023-01-31', '2023-02-01']}\n",
    "df = pd.DataFrame(data_3)\n",
    "filtered_df = filter_dates(df, '2023-01-01', '2023-01-31')\n",
    "print(filtered_df)"
   ]
  },
  {
   "cell_type": "markdown",
   "id": "49dea91d-ba98-41a3-8f3c-8e5604de52ee",
   "metadata": {},
   "source": [
    "### 1.Converts the 'Date' column to datetime format to ensure accurate comparisons.\n",
    "### 2.Converts the start_date and end_date parameters to datetime format.\n",
    "### 3.Filters the DataFrame to include only rows where the 'Date' column is between the specified start and end dates using boolean indexing.\n",
    "### 4.Returns the filtered DataFrame."
   ]
  },
  {
   "cell_type": "markdown",
   "id": "a44341eb-6155-4eb5-9ab9-9e0e4d6635e9",
   "metadata": {},
   "source": [
    "### Q13. To use the basic functions of pandas, what is the first and foremost necessary library that needs to be imported?"
   ]
  },
  {
   "cell_type": "markdown",
   "id": "347a5955-dc55-4ea2-87b2-20f732de1730",
   "metadata": {},
   "source": [
    "### To use the basic functions of Pandas, we need to import the Pandas library itself. The standard way to import Pandas is:"
   ]
  },
  {
   "cell_type": "code",
   "execution_count": 16,
   "id": "a2113339-8460-4649-bdcc-acc17d99ec2c",
   "metadata": {},
   "outputs": [],
   "source": [
    "import pandas as pd"
   ]
  },
  {
   "cell_type": "markdown",
   "id": "19ca237f-e772-42eb-84ff-40edc5f99a33",
   "metadata": {},
   "source": [
    "### This import statement allows we to access Pandas functions and classes using the pd alias, which is a common convention in the Python data analysis community."
   ]
  },
  {
   "cell_type": "code",
   "execution_count": null,
   "id": "1f902632-1fbf-4aae-a4f0-d431d312a363",
   "metadata": {},
   "outputs": [],
   "source": []
  }
 ],
 "metadata": {
  "kernelspec": {
   "display_name": "Python 3 (ipykernel)",
   "language": "python",
   "name": "python3"
  },
  "language_info": {
   "codemirror_mode": {
    "name": "ipython",
    "version": 3
   },
   "file_extension": ".py",
   "mimetype": "text/x-python",
   "name": "python",
   "nbconvert_exporter": "python",
   "pygments_lexer": "ipython3",
   "version": "3.10.8"
  }
 },
 "nbformat": 4,
 "nbformat_minor": 5
}
